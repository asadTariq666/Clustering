{
 "cells": [
  {
   "cell_type": "markdown",
   "id": "28a1326e",
   "metadata": {},
   "source": [
    "# K-Means algorithm implementation for Customer Segmentation"
   ]
  },
  {
   "cell_type": "markdown",
   "id": "173a1a6f",
   "metadata": {},
   "source": [
    "## Intall packages"
   ]
  },
  {
   "cell_type": "code",
   "execution_count": 1,
   "id": "c9d4220e",
   "metadata": {
    "scrolled": true
   },
   "outputs": [
    {
     "name": "stdout",
     "output_type": "stream",
     "text": [
      "Requirement already satisfied: numpy in /Users/asadtariq/opt/anaconda3/envs/env-IDS2020/lib/python3.7/site-packages (1.21.5)\n",
      "Requirement already satisfied: Pandas in /Users/asadtariq/opt/anaconda3/envs/env-IDS2020/lib/python3.7/site-packages (1.3.5)\n",
      "Requirement already satisfied: python-dateutil>=2.7.3 in /Users/asadtariq/opt/anaconda3/envs/env-IDS2020/lib/python3.7/site-packages (from Pandas) (2.8.2)\n",
      "Requirement already satisfied: numpy>=1.17.3 in /Users/asadtariq/opt/anaconda3/envs/env-IDS2020/lib/python3.7/site-packages (from Pandas) (1.21.5)\n",
      "Requirement already satisfied: pytz>=2017.3 in /Users/asadtariq/opt/anaconda3/envs/env-IDS2020/lib/python3.7/site-packages (from Pandas) (2021.3)\n",
      "Requirement already satisfied: six>=1.5 in /Users/asadtariq/opt/anaconda3/envs/env-IDS2020/lib/python3.7/site-packages (from python-dateutil>=2.7.3->Pandas) (1.16.0)\n",
      "Requirement already satisfied: matplotlib in /Users/asadtariq/opt/anaconda3/envs/env-IDS2020/lib/python3.7/site-packages (3.5.1)\n",
      "Requirement already satisfied: pillow>=6.2.0 in /Users/asadtariq/opt/anaconda3/envs/env-IDS2020/lib/python3.7/site-packages (from matplotlib) (8.4.0)\n",
      "Requirement already satisfied: python-dateutil>=2.7 in /Users/asadtariq/opt/anaconda3/envs/env-IDS2020/lib/python3.7/site-packages (from matplotlib) (2.8.2)\n",
      "Requirement already satisfied: packaging>=20.0 in /Users/asadtariq/opt/anaconda3/envs/env-IDS2020/lib/python3.7/site-packages (from matplotlib) (21.3)\n",
      "Requirement already satisfied: kiwisolver>=1.0.1 in /Users/asadtariq/opt/anaconda3/envs/env-IDS2020/lib/python3.7/site-packages (from matplotlib) (1.3.2)\n",
      "Requirement already satisfied: cycler>=0.10 in /Users/asadtariq/opt/anaconda3/envs/env-IDS2020/lib/python3.7/site-packages (from matplotlib) (0.11.0)\n",
      "Requirement already satisfied: pyparsing>=2.2.1 in /Users/asadtariq/opt/anaconda3/envs/env-IDS2020/lib/python3.7/site-packages (from matplotlib) (3.0.4)\n",
      "Requirement already satisfied: numpy>=1.17 in /Users/asadtariq/opt/anaconda3/envs/env-IDS2020/lib/python3.7/site-packages (from matplotlib) (1.21.5)\n",
      "Requirement already satisfied: fonttools>=4.22.0 in /Users/asadtariq/opt/anaconda3/envs/env-IDS2020/lib/python3.7/site-packages (from matplotlib) (4.28.4)\n",
      "Requirement already satisfied: six>=1.5 in /Users/asadtariq/opt/anaconda3/envs/env-IDS2020/lib/python3.7/site-packages (from python-dateutil>=2.7->matplotlib) (1.16.0)\n"
     ]
    }
   ],
   "source": [
    "!pip install numpy\n",
    "!pip install Pandas\n",
    "!pip install matplotlib"
   ]
  },
  {
   "cell_type": "markdown",
   "id": "3b7ac64e",
   "metadata": {},
   "source": [
    "## Import Libraries"
   ]
  },
  {
   "cell_type": "code",
   "execution_count": 3,
   "id": "6046b260",
   "metadata": {},
   "outputs": [],
   "source": [
    "import numpy as np\n",
    "import matplotlib.pyplot as plt\n",
    "import pandas as pd\n",
    "from sklearn.linear_model import LinearRegression\n",
    "from sklearn.metrics import mean_squared_error, mean_absolute_error"
   ]
  },
  {
   "cell_type": "markdown",
   "id": "4e05e952",
   "metadata": {},
   "source": [
    "## Read data from csv exported from Database - *name file as final_points.csv"
   ]
  },
  {
   "cell_type": "code",
   "execution_count": 4,
   "id": "35b5e30e",
   "metadata": {},
   "outputs": [
    {
     "name": "stdout",
     "output_type": "stream",
     "text": [
      "First look at the data set: \n",
      "   id                             Company Name  Company id  Count Page View  \\\n",
      "0   0  H√ºttenes-Albertus Chemische Werke GmbH         326         0.107686   \n",
      "1   1                                 Impag AG       23107         0.000558   \n",
      "2   2          STOCKMEIER Chemie GmbH & Co. KG       10176         0.004743   \n",
      "3   3                  Rascor International AG        3406         0.053703   \n",
      "4   4           JARBUR EUROCHEM Sp√≥≈Çka Jawna       19068         1.000000   \n",
      "\n",
      "   Count Search  Count Requests  Count Orders  Count Session Id  \\\n",
      "0      0.333011        0.085443      0.065574          0.228916   \n",
      "1      0.000000        0.041139      0.000000          0.003442   \n",
      "2      0.000968        0.037975      1.000000          0.024096   \n",
      "3      0.075508        0.031646      0.016393          0.180723   \n",
      "4      0.913843        0.661392      0.016393          0.838210   \n",
      "\n",
      "   Total Order Value In Euro  Monetize Amount  Final Points  \\\n",
      "0                   0.020527         1.000000    465.736647   \n",
      "1                   0.000000         0.840336    344.562317   \n",
      "2                   1.000000         0.000000    309.085291   \n",
      "3                   0.000000         0.641711    281.789023   \n",
      "4                   0.007648         0.000000    273.924583   \n",
      "\n",
      "   Groups on Final Points  \n",
      "0                       1  \n",
      "1                       1  \n",
      "2                       1  \n",
      "3                       1  \n",
      "4                       1  \n"
     ]
    }
   ],
   "source": [
    "# Importing the dataset\n",
    "buyer = pd.read_csv('cust_seg_1500.csv')\n",
    "\n",
    "print('First look at the data set: ')\n",
    "print(buyer.head())"
   ]
  },
  {
   "cell_type": "code",
   "execution_count": 6,
   "id": "af138894",
   "metadata": {},
   "outputs": [
    {
     "name": "stdout",
     "output_type": "stream",
     "text": [
      "First look at the data set: \n",
      "                              Company Name  Company id  Count Page View  \\\n",
      "0  H√ºttenes-Albertus Chemische Werke GmbH         326         0.107686   \n",
      "1                                 Impag AG       23107         0.000558   \n",
      "2          STOCKMEIER Chemie GmbH & Co. KG       10176         0.004743   \n",
      "3                  Rascor International AG        3406         0.053703   \n",
      "4           JARBUR EUROCHEM Sp√≥≈Çka Jawna       19068         1.000000   \n",
      "\n",
      "   Count Search  Count Requests  Count Orders  Count Session Id  \\\n",
      "0      0.333011        0.085443      0.065574          0.228916   \n",
      "1      0.000000        0.041139      0.000000          0.003442   \n",
      "2      0.000968        0.037975      1.000000          0.024096   \n",
      "3      0.075508        0.031646      0.016393          0.180723   \n",
      "4      0.913843        0.661392      0.016393          0.838210   \n",
      "\n",
      "   Total Order Value In Euro  Monetize Amount  Final Points  \\\n",
      "0                   0.020527         1.000000    465.736647   \n",
      "1                   0.000000         0.840336    344.562317   \n",
      "2                   1.000000         0.000000    309.085291   \n",
      "3                   0.000000         0.641711    281.789023   \n",
      "4                   0.007648         0.000000    273.924583   \n",
      "\n",
      "   Groups on Final Points  \n",
      "0                       1  \n",
      "1                       1  \n",
      "2                       1  \n",
      "3                       1  \n",
      "4                       1  \n"
     ]
    }
   ],
   "source": [
    "from sklearn.cluster import KMeans  \n",
    "from pandas import DataFrame\n",
    "data = DataFrame(buyer, columns=['Company Name','Company id','Count Page View','Count Search', 'Count Requests','Count Orders', 'Count Session Id', 'Total Order Value In Euro', 'Monetize Amount','Final Points','Groups on Final Points'])\n",
    "\n",
    "CountRequests = data['Count Requests']\n",
    "PageCount =data['Count Page View']\n",
    "CountSearch = data['Count Search']\n",
    "CountOrders =data['Count Orders']\n",
    "CountSessionId =data['Count Session Id']\n",
    "TotalOrder =data['Total Order Value In Euro']\n",
    "MonetizeAmount =data['Monetize Amount']\n",
    "\n",
    "print('First look at the data set: ')\n",
    "print(data.head())"
   ]
  },
  {
   "cell_type": "markdown",
   "id": "5d86fc05",
   "metadata": {},
   "source": [
    "## Zipping data in numpy array"
   ]
  },
  {
   "cell_type": "code",
   "execution_count": 7,
   "id": "5aa0b206",
   "metadata": {},
   "outputs": [
    {
     "name": "stdout",
     "output_type": "stream",
     "text": [
      "[[8.54430380e-02 1.07685870e-01 3.33010649e-01 ... 2.28915663e-01\n",
      "  2.05267650e-02 1.00000000e+00]\n",
      " [4.11392410e-02 5.57958000e-04 0.00000000e+00 ... 3.44234100e-03\n",
      "  0.00000000e+00 8.40336134e-01]\n",
      " [3.79746840e-02 4.74264200e-03 9.68054000e-04 ... 2.40963860e-02\n",
      "  1.00000000e+00 0.00000000e+00]\n",
      " ...\n",
      " [3.16455700e-03 1.53438420e-02 1.64569220e-02 ... 4.30292600e-02\n",
      "  0.00000000e+00 0.00000000e+00]\n",
      " [9.49367100e-03 9.34579400e-03 1.25847050e-02 ... 2.75387260e-02\n",
      "  0.00000000e+00 0.00000000e+00]\n",
      " [9.49367100e-03 1.22750730e-02 1.64569220e-02 ... 2.06540450e-02\n",
      "  0.00000000e+00 0.00000000e+00]]\n"
     ]
    }
   ],
   "source": [
    "points_data = np.array(list(zip(CountRequests, PageCount,CountSearch,CountOrders,CountSessionId,TotalOrder,MonetizeAmount)))\n",
    "#print(points_data)\n",
    "print(points_data)"
   ]
  },
  {
   "cell_type": "markdown",
   "id": "8152d4a7",
   "metadata": {},
   "source": [
    "## Clustering data with K-means algorithm and exporting data in ClusteredTestIteration.csv file - 3 Clusters"
   ]
  },
  {
   "cell_type": "code",
   "execution_count": 35,
   "id": "b8d25ef0",
   "metadata": {},
   "outputs": [
    {
     "name": "stdout",
     "output_type": "stream",
     "text": [
      "                              Company Name  Company id  Count Page View  \\\n",
      "0  H√ºttenes-Albertus Chemische Werke GmbH         326         0.107686   \n",
      "1                                 Impag AG       23107         0.000558   \n",
      "2          STOCKMEIER Chemie GmbH & Co. KG       10176         0.004743   \n",
      "3                  Rascor International AG        3406         0.053703   \n",
      "4           JARBUR EUROCHEM Sp√≥≈Çka Jawna       19068         1.000000   \n",
      "\n",
      "   Count Search  Count Requests  Count Orders  Count Session Id  \\\n",
      "0      0.333011        0.085443      0.065574          0.228916   \n",
      "1      0.000000        0.041139      0.000000          0.003442   \n",
      "2      0.000968        0.037975      1.000000          0.024096   \n",
      "3      0.075508        0.031646      0.016393          0.180723   \n",
      "4      0.913843        0.661392      0.016393          0.838210   \n",
      "\n",
      "   Total Order Value In Euro  Monetize Amount  Final Points  \\\n",
      "0                   0.020527         1.000000    465.736647   \n",
      "1                   0.000000         0.840336    344.562317   \n",
      "2                   1.000000         0.000000    309.085291   \n",
      "3                   0.000000         0.641711    281.789023   \n",
      "4                   0.007648         0.000000    273.924583   \n",
      "\n",
      "   Groups on Final Points  KmeansClusterPredicted_3Clusters  \n",
      "0                       1                                 0  \n",
      "1                       1                                 1  \n",
      "2                       1                                 1  \n",
      "3                       1                                 0  \n",
      "4                       1                                 2  \n"
     ]
    }
   ],
   "source": [
    "import pandas as pd\n",
    "from sklearn.datasets import make_blobs\n",
    "from sklearn.cluster import KMeans\n",
    "\n",
    "kmeans = KMeans(n_clusters=3, init='k-means++',n_init=1, max_iter=5000, tol=0.0001, verbose=0, random_state=None)\n",
    "KmeansClusterPredicted_3Clusters = kmeans.fit_predict(points_data)\n",
    "\n",
    "\n",
    "df = pd.DataFrame(data=KmeansClusterPredicted_3Clusters,columns=[\"Column1\"])\n",
    "data = data.assign(KmeansClusterPredicted_3Clusters=KmeansClusterPredicted_3Clusters)\n",
    "#print(data)\n",
    "data.to_csv('ClusteredTestIteration.csv')\n",
    "print(data.head())"
   ]
  },
  {
   "cell_type": "markdown",
   "id": "1fbf0d85",
   "metadata": {},
   "source": [
    "## Integrating results for cross verification"
   ]
  },
  {
   "cell_type": "code",
   "execution_count": 40,
   "id": "66a49b05",
   "metadata": {},
   "outputs": [
    {
     "name": "stdout",
     "output_type": "stream",
     "text": [
      "First look at the data set: \n",
      "   id                             Company Name  Company id  Count Page View  \\\n",
      "0   0                   H√§ffner Gmbh & Co. Kg         136         0.006556   \n",
      "1   1                            Traditem Gmbh         141         0.415818   \n",
      "2   2                       Syskem Chemie Gmbh         144         0.015483   \n",
      "3   3         Cofermin Chemicals Gmbh & Co. Kg         149         0.025387   \n",
      "4   4  ELTON INTERNATIONAL TRADING COMPANY S.A         169         0.026364   \n",
      "\n",
      "   Count Search  Count Requests  Count Orders  Count Session Id  \\\n",
      "0      0.013553        0.022152           0.0          0.017212   \n",
      "1      0.467570        0.693038           0.0          1.000000   \n",
      "2      0.032914        0.015823           0.0          0.048193   \n",
      "3      0.033882        0.000000           0.0          0.084337   \n",
      "4      0.050339        0.006329           0.0          0.032702   \n",
      "\n",
      "   Total Order Value In Euro  Monetize Amount  Final Points  \\\n",
      "0                        0.0              0.0      6.296403   \n",
      "1                        0.0              0.0    232.777009   \n",
      "2                        0.0              0.0      7.994054   \n",
      "3                        0.0              0.0      7.180317   \n",
      "4                        0.0              0.0      6.736051   \n",
      "\n",
      "   Groups on Final Points  KmeansClusterPredicted_3Clusters  \n",
      "0                       3                                 1  \n",
      "1                       1                                 2  \n",
      "2                       3                                 1  \n",
      "3                       3                                 1  \n",
      "4                       3                                 1  \n"
     ]
    }
   ],
   "source": [
    "# Importing the dataset\n",
    "cluster = pd.read_csv('ClusteredTestIteration.csv')\n",
    "\n",
    "print('First look at the data set: ')\n",
    "print(cluster.head())"
   ]
  },
  {
   "cell_type": "code",
   "execution_count": 41,
   "id": "e1df8ca8",
   "metadata": {},
   "outputs": [],
   "source": [
    "identity =cluster['id'].values\n",
    "final_points= cluster['Final Points'].values\n"
   ]
  },
  {
   "cell_type": "code",
   "execution_count": 42,
   "id": "04543842",
   "metadata": {},
   "outputs": [
    {
     "data": {
      "text/plain": [
       "<matplotlib.collections.PathCollection at 0x7f9b042f1590>"
      ]
     },
     "execution_count": 42,
     "metadata": {},
     "output_type": "execute_result"
    },
    {
     "data": {
      "image/png": "[encoded data removed]",
      "text/plain": [
       "<Figure size 432x288 with 1 Axes>"
      ]
     },
     "metadata": {
      "needs_background": "light"
     },
     "output_type": "display_data"
    }
   ],
   "source": [
    "cluster_data = np.array(list(zip(identity, final_points)))\n",
    "\n",
    "#Define 'cluster_num' for for number of clusters.\n",
    "\n",
    "cluster_num = 3\n",
    "kmeans = KMeans(cluster_num).fit(cluster_data)\n",
    "clusters = kmeans.labels_\n",
    "centroids = kmeans.cluster_centers_\n",
    "\n",
    "fig, plots = plt.subplots()\n",
    "plt.ylabel('Final Points')\n",
    "plt.xlabel('Ids')\n",
    "colors = ['r', 'g', 'b']\n",
    "for cluster_index in range(cluster_num) :\n",
    "    sub_set = np.array([cluster_data[i] for i in range(len(cluster_data)) if clusters[i] == cluster_index])\n",
    "    if len(sub_set) == 0 :\n",
    "        continue\n",
    "    plots.scatter(sub_set[:,0], sub_set[:,1], s = 10, c = colors[cluster_index])\n",
    "plots.scatter(centroids[:,0], centroids[:,1], marker = '*', s = 300, c = 'k')"
   ]
  },
  {
   "cell_type": "code",
   "execution_count": 38,
   "id": "0128bdb9",
   "metadata": {},
   "outputs": [
    {
     "data": {
      "text/plain": [
       "array([[   0,    0,    0,    0],\n",
       "       [  77,   10,   13,    0],\n",
       "       [ 116,  284,    0,    0],\n",
       "       [   0, 1000,    0,    0]])"
      ]
     },
     "execution_count": 38,
     "metadata": {},
     "output_type": "execute_result"
    }
   ],
   "source": [
    "# Final Points on the y axis, Cluster predicted on the x axis\n",
    "from sklearn.metrics import confusion_matrix\n",
    "identity =cluster['Groups on Final Points'].values\n",
    "cluster_number= cluster['KmeansClusterPredicted_3Clusters'].values\n",
    "confusion_matrix(identity,cluster_number,labels=[0,1,2,3])"
   ]
  },
  {
   "cell_type": "code",
   "execution_count": null,
   "id": "1512868b",
   "metadata": {},
   "outputs": [],
   "source": []
  },
  {
   "cell_type": "code",
   "execution_count": null,
   "id": "055d7b0c",
   "metadata": {},
   "outputs": [],
   "source": []
  },
  {
   "cell_type": "code",
   "execution_count": null,
   "id": "97cc5809",
   "metadata": {},
   "outputs": [],
   "source": []
  },
  {
   "cell_type": "markdown",
   "id": "0432f2dc",
   "metadata": {},
   "source": [
    "## Clustering data with K-means algorithm and exporting data in ClusteredTestIteration.csv file - 4 Clusters"
   ]
  },
  {
   "cell_type": "code",
   "execution_count": 43,
   "id": "aa16ba99",
   "metadata": {},
   "outputs": [
    {
     "name": "stdout",
     "output_type": "stream",
     "text": [
      "                              Company Name  Company id  Count Page View  \\\n",
      "0  H√ºttenes-Albertus Chemische Werke GmbH         326         0.107686   \n",
      "1                                 Impag AG       23107         0.000558   \n",
      "2          STOCKMEIER Chemie GmbH & Co. KG       10176         0.004743   \n",
      "3                  Rascor International AG        3406         0.053703   \n",
      "4           JARBUR EUROCHEM Sp√≥≈Çka Jawna       19068         1.000000   \n",
      "\n",
      "   Count Search  Count Requests  Count Orders  Count Session Id  \\\n",
      "0      0.333011        0.085443      0.065574          0.228916   \n",
      "1      0.000000        0.041139      0.000000          0.003442   \n",
      "2      0.000968        0.037975      1.000000          0.024096   \n",
      "3      0.075508        0.031646      0.016393          0.180723   \n",
      "4      0.913843        0.661392      0.016393          0.838210   \n",
      "\n",
      "   Total Order Value In Euro  Monetize Amount  Final Points  \\\n",
      "0                   0.020527         1.000000    465.736647   \n",
      "1                   0.000000         0.840336    344.562317   \n",
      "2                   1.000000         0.000000    309.085291   \n",
      "3                   0.000000         0.641711    281.789023   \n",
      "4                   0.007648         0.000000    273.924583   \n",
      "\n",
      "   Groups on Final Points  KmeansClusterPredicted_3Clusters  \\\n",
      "0                       1                                 0   \n",
      "1                       1                                 1   \n",
      "2                       1                                 1   \n",
      "3                       1                                 0   \n",
      "4                       1                                 2   \n",
      "\n",
      "   KmeansClusterPredicted_4Clusters  \n",
      "0                                 3  \n",
      "1                                 0  \n",
      "2                                 1  \n",
      "3                                 3  \n",
      "4                                 2  \n"
     ]
    }
   ],
   "source": [
    "import pandas as pd\n",
    "from sklearn.datasets import make_blobs\n",
    "from sklearn.cluster import KMeans\n",
    "\n",
    "kmeans = KMeans(n_clusters=4, init='k-means++',n_init=1, max_iter=5000, tol=0.0001, verbose=0, random_state=None)\n",
    "KmeansClusterPredicted_4Clusters = kmeans.fit_predict(points_data)\n",
    "\n",
    "\n",
    "df = pd.DataFrame(data=KmeansClusterPredicted_4Clusters,columns=[\"Column1\"])\n",
    "data = data.assign(KmeansClusterPredicted_4Clusters=KmeansClusterPredicted_4Clusters)\n",
    "#print(data)\n",
    "data.to_csv('ClusteredTestIteration.csv')\n",
    "print(data.head())"
   ]
  },
  {
   "cell_type": "markdown",
   "id": "21219555",
   "metadata": {},
   "source": [
    "## Integrating results for cross verification"
   ]
  },
  {
   "cell_type": "code",
   "execution_count": 46,
   "id": "02680e24",
   "metadata": {},
   "outputs": [
    {
     "name": "stdout",
     "output_type": "stream",
     "text": [
      "First look at the data set: \n",
      "   id                             Company Name  Company id  Count Page View  \\\n",
      "0   0                   H√§ffner Gmbh & Co. Kg         136         0.006556   \n",
      "1   1                            Traditem Gmbh         141         0.415818   \n",
      "2   2                       Syskem Chemie Gmbh         144         0.015483   \n",
      "3   3         Cofermin Chemicals Gmbh & Co. Kg         149         0.025387   \n",
      "4   4  ELTON INTERNATIONAL TRADING COMPANY S.A         169         0.026364   \n",
      "\n",
      "   Count Search  Count Requests  Count Orders  Count Session Id  \\\n",
      "0      0.013553        0.022152           0.0          0.017212   \n",
      "1      0.467570        0.693038           0.0          1.000000   \n",
      "2      0.032914        0.015823           0.0          0.048193   \n",
      "3      0.033882        0.000000           0.0          0.084337   \n",
      "4      0.050339        0.006329           0.0          0.032702   \n",
      "\n",
      "   Total Order Value In Euro  Monetize Amount  Final Points  \\\n",
      "0                        0.0              0.0      6.296403   \n",
      "1                        0.0              0.0    232.777009   \n",
      "2                        0.0              0.0      7.994054   \n",
      "3                        0.0              0.0      7.180317   \n",
      "4                        0.0              0.0      6.736051   \n",
      "\n",
      "   Groups on Final Points  KmeansClusterPredicted_3Clusters  \\\n",
      "0                       3                                 1   \n",
      "1                       1                                 2   \n",
      "2                       3                                 1   \n",
      "3                       3                                 1   \n",
      "4                       3                                 1   \n",
      "\n",
      "   KmeansClusterPredicted_4Clusters  \n",
      "0                                 0  \n",
      "1                                 2  \n",
      "2                                 0  \n",
      "3                                 0  \n",
      "4                                 0  \n"
     ]
    }
   ],
   "source": [
    "# Importing the dataset\n",
    "cluster = pd.read_csv('ClusteredTestIteration.csv')\n",
    "\n",
    "print('First look at the data set: ')\n",
    "print(cluster.head())"
   ]
  },
  {
   "cell_type": "code",
   "execution_count": 47,
   "id": "7c2ec760",
   "metadata": {},
   "outputs": [],
   "source": [
    "identity =cluster['id'].values\n",
    "final_points= cluster['Final Points'].values\n"
   ]
  },
  {
   "cell_type": "code",
   "execution_count": 49,
   "id": "81acc6fe",
   "metadata": {},
   "outputs": [
    {
     "data": {
      "text/plain": [
       "<matplotlib.collections.PathCollection at 0x7f9b075c9710>"
      ]
     },
     "execution_count": 49,
     "metadata": {},
     "output_type": "execute_result"
    },
    {
     "data": {
      "image/png": "[encoded data removed]",
      "text/plain": [
       "<Figure size 432x288 with 1 Axes>"
      ]
     },
     "metadata": {
      "needs_background": "light"
     },
     "output_type": "display_data"
    }
   ],
   "source": [
    "cluster_data = np.array(list(zip(identity, final_points)))\n",
    "\n",
    "#Define 'cluster_num' for for number of clusters.\n",
    "\n",
    "cluster_num = 4\n",
    "kmeans = KMeans(cluster_num).fit(cluster_data)\n",
    "clusters = kmeans.labels_\n",
    "centroids = kmeans.cluster_centers_\n",
    "\n",
    "fig, plots = plt.subplots()\n",
    "plt.ylabel('Final Points')\n",
    "plt.xlabel('Ids')\n",
    "colors = ['r', 'g', 'b','y']\n",
    "for cluster_index in range(cluster_num) :\n",
    "    sub_set = np.array([cluster_data[i] for i in range(len(cluster_data)) if clusters[i] == cluster_index])\n",
    "    if len(sub_set) == 0 :\n",
    "        continue\n",
    "    plots.scatter(sub_set[:,0], sub_set[:,1], s = 10, c = colors[cluster_index])\n",
    "plots.scatter(centroids[:,0], centroids[:,1], marker = '*', s = 300, c = 'k')"
   ]
  },
  {
   "cell_type": "code",
   "execution_count": 53,
   "id": "a2d19c40",
   "metadata": {},
   "outputs": [
    {
     "data": {
      "text/plain": [
       "array([[   0,    0,    0,    0],\n",
       "       [   9,    9,   19,   63],\n",
       "       [ 257,    0,    0,  143],\n",
       "       [1000,    0,    0,    0]])"
      ]
     },
     "execution_count": 53,
     "metadata": {},
     "output_type": "execute_result"
    }
   ],
   "source": [
    "# Final Points on the y axis, Cluster predicted on the x axis\n",
    "from sklearn.metrics import confusion_matrix\n",
    "identity =cluster['Groups on Final Points'].values\n",
    "cluster_number= cluster['KmeansClusterPredicted_4Clusters'].values\n",
    "confusion_matrix(identity,cluster_number,labels=[0,1,2,3])"
   ]
  },
  {
   "cell_type": "code",
   "execution_count": null,
   "id": "bfcbf2cf",
   "metadata": {},
   "outputs": [],
   "source": []
  },
  {
   "cell_type": "code",
   "execution_count": null,
   "id": "198a2c27",
   "metadata": {},
   "outputs": [],
   "source": []
  },
  {
   "cell_type": "code",
   "execution_count": null,
   "id": "6101fd72",
   "metadata": {},
   "outputs": [],
   "source": []
  },
  {
   "cell_type": "markdown",
   "id": "8469bb6c",
   "metadata": {},
   "source": [
    "## Clustering data with K-means algorithm and exporting data in ClusteredTestIteration.csv file - 5 Clusters"
   ]
  },
  {
   "cell_type": "code",
   "execution_count": 43,
   "id": "d1efdc59",
   "metadata": {},
   "outputs": [
    {
     "name": "stdout",
     "output_type": "stream",
     "text": [
      "                              Company Name  Company id  Count Page View  \\\n",
      "0  H√ºttenes-Albertus Chemische Werke GmbH         326         0.107686   \n",
      "1                                 Impag AG       23107         0.000558   \n",
      "2          STOCKMEIER Chemie GmbH & Co. KG       10176         0.004743   \n",
      "3                  Rascor International AG        3406         0.053703   \n",
      "4           JARBUR EUROCHEM Sp√≥≈Çka Jawna       19068         1.000000   \n",
      "\n",
      "   Count Search  Count Requests  Count Orders  Count Session Id  \\\n",
      "0      0.333011        0.085443      0.065574          0.228916   \n",
      "1      0.000000        0.041139      0.000000          0.003442   \n",
      "2      0.000968        0.037975      1.000000          0.024096   \n",
      "3      0.075508        0.031646      0.016393          0.180723   \n",
      "4      0.913843        0.661392      0.016393          0.838210   \n",
      "\n",
      "   Total Order Value In Euro  Monetize Amount  Final Points  \\\n",
      "0                   0.020527         1.000000    465.736647   \n",
      "1                   0.000000         0.840336    344.562317   \n",
      "2                   1.000000         0.000000    309.085291   \n",
      "3                   0.000000         0.641711    281.789023   \n",
      "4                   0.007648         0.000000    273.924583   \n",
      "\n",
      "   Groups on Final Points  KmeansClusterPredicted_3Clusters  \\\n",
      "0                       1                                 0   \n",
      "1                       1                                 1   \n",
      "2                       1                                 1   \n",
      "3                       1                                 0   \n",
      "4                       1                                 2   \n",
      "\n",
      "   KmeansClusterPredicted_4Clusters  \n",
      "0                                 3  \n",
      "1                                 0  \n",
      "2                                 1  \n",
      "3                                 3  \n",
      "4                                 2  \n"
     ]
    }
   ],
   "source": [
    "import pandas as pd\n",
    "from sklearn.datasets import make_blobs\n",
    "from sklearn.cluster import KMeans\n",
    "\n",
    "kmeans = KMeans(n_clusters=4, init='k-means++',n_init=1, max_iter=5000, tol=0.0001, verbose=0, random_state=None)\n",
    "KmeansClusterPredicted_4Clusters = kmeans.fit_predict(points_data)\n",
    "\n",
    "\n",
    "df = pd.DataFrame(data=KmeansClusterPredicted_4Clusters,columns=[\"Column1\"])\n",
    "data = data.assign(KmeansClusterPredicted_4Clusters=KmeansClusterPredicted_4Clusters)\n",
    "#print(data)\n",
    "data.to_csv('ClusteredTestIteration.csv')\n",
    "print(data.head())"
   ]
  },
  {
   "cell_type": "markdown",
   "id": "5e283cf4",
   "metadata": {},
   "source": [
    "## Integrating results for cross verification"
   ]
  },
  {
   "cell_type": "code",
   "execution_count": 46,
   "id": "0729d4e6",
   "metadata": {},
   "outputs": [
    {
     "name": "stdout",
     "output_type": "stream",
     "text": [
      "First look at the data set: \n",
      "   id                             Company Name  Company id  Count Page View  \\\n",
      "0   0                   H√§ffner Gmbh & Co. Kg         136         0.006556   \n",
      "1   1                            Traditem Gmbh         141         0.415818   \n",
      "2   2                       Syskem Chemie Gmbh         144         0.015483   \n",
      "3   3         Cofermin Chemicals Gmbh & Co. Kg         149         0.025387   \n",
      "4   4  ELTON INTERNATIONAL TRADING COMPANY S.A         169         0.026364   \n",
      "\n",
      "   Count Search  Count Requests  Count Orders  Count Session Id  \\\n",
      "0      0.013553        0.022152           0.0          0.017212   \n",
      "1      0.467570        0.693038           0.0          1.000000   \n",
      "2      0.032914        0.015823           0.0          0.048193   \n",
      "3      0.033882        0.000000           0.0          0.084337   \n",
      "4      0.050339        0.006329           0.0          0.032702   \n",
      "\n",
      "   Total Order Value In Euro  Monetize Amount  Final Points  \\\n",
      "0                        0.0              0.0      6.296403   \n",
      "1                        0.0              0.0    232.777009   \n",
      "2                        0.0              0.0      7.994054   \n",
      "3                        0.0              0.0      7.180317   \n",
      "4                        0.0              0.0      6.736051   \n",
      "\n",
      "   Groups on Final Points  KmeansClusterPredicted_3Clusters  \\\n",
      "0                       3                                 1   \n",
      "1                       1                                 2   \n",
      "2                       3                                 1   \n",
      "3                       3                                 1   \n",
      "4                       3                                 1   \n",
      "\n",
      "   KmeansClusterPredicted_4Clusters  \n",
      "0                                 0  \n",
      "1                                 2  \n",
      "2                                 0  \n",
      "3                                 0  \n",
      "4                                 0  \n"
     ]
    }
   ],
   "source": [
    "# Importing the dataset\n",
    "cluster = pd.read_csv('ClusteredTestIteration.csv')\n",
    "\n",
    "print('First look at the data set: ')\n",
    "print(cluster.head())"
   ]
  },
  {
   "cell_type": "code",
   "execution_count": 47,
   "id": "fa4062bb",
   "metadata": {},
   "outputs": [],
   "source": [
    "identity =cluster['id'].values\n",
    "final_points= cluster['Final Points'].values\n"
   ]
  },
  {
   "cell_type": "code",
   "execution_count": 49,
   "id": "c1994d95",
   "metadata": {},
   "outputs": [
    {
     "data": {
      "text/plain": [
       "<matplotlib.collections.PathCollection at 0x7f9b075c9710>"
      ]
     },
     "execution_count": 49,
     "metadata": {},
     "output_type": "execute_result"
    },
    {
     "data": {
      "image/png": "[encoded data removed]",
      "text/plain": [
       "<Figure size 432x288 with 1 Axes>"
      ]
     },
     "metadata": {
      "needs_background": "light"
     },
     "output_type": "display_data"
    }
   ],
   "source": [
    "cluster_data = np.array(list(zip(identity, final_points)))\n",
    "\n",
    "#Define 'cluster_num' for for number of clusters.\n",
    "\n",
    "cluster_num = 4\n",
    "kmeans = KMeans(cluster_num).fit(cluster_data)\n",
    "clusters = kmeans.labels_\n",
    "centroids = kmeans.cluster_centers_\n",
    "\n",
    "fig, plots = plt.subplots()\n",
    "plt.ylabel('Final Points')\n",
    "plt.xlabel('Ids')\n",
    "colors = ['r', 'g', 'b','y']\n",
    "for cluster_index in range(cluster_num) :\n",
    "    sub_set = np.array([cluster_data[i] for i in range(len(cluster_data)) if clusters[i] == cluster_index])\n",
    "    if len(sub_set) == 0 :\n",
    "        continue\n",
    "    plots.scatter(sub_set[:,0], sub_set[:,1], s = 10, c = colors[cluster_index])\n",
    "plots.scatter(centroids[:,0], centroids[:,1], marker = '*', s = 300, c = 'k')"
   ]
  },
  {
   "cell_type": "code",
   "execution_count": 53,
   "id": "c639b2d3",
   "metadata": {},
   "outputs": [
    {
     "data": {
      "text/plain": [
       "array([[   0,    0,    0,    0],\n",
       "       [   9,    9,   19,   63],\n",
       "       [ 257,    0,    0,  143],\n",
       "       [1000,    0,    0,    0]])"
      ]
     },
     "execution_count": 53,
     "metadata": {},
     "output_type": "execute_result"
    }
   ],
   "source": [
    "# Final Points on the y axis, Cluster predicted on the x axis\n",
    "from sklearn.metrics import confusion_matrix\n",
    "identity =cluster['Groups on Final Points'].values\n",
    "cluster_number= cluster['KmeansClusterPredicted_4Clusters'].values\n",
    "confusion_matrix(identity,cluster_number,labels=[0,1,2,3])"
   ]
  },
  {
   "cell_type": "code",
   "execution_count": null,
   "id": "12f68ffa",
   "metadata": {},
   "outputs": [],
   "source": []
  }
 ],
 "metadata": {
  "kernelspec": {
   "display_name": "Python 3 (ipykernel)",
   "language": "python",
   "name": "python3"
  },
  "language_info": {
   "codemirror_mode": {
    "name": "ipython",
    "version": 3
   },
   "file_extension": ".py",
   "mimetype": "text/x-python",
   "name": "python",
   "nbconvert_exporter": "python",
   "pygments_lexer": "ipython3",
   "version": "3.7.11"
  },
  "toc": {
   "base_numbering": 1,
   "nav_menu": {},
   "number_sections": false,
   "sideBar": true,
   "skip_h1_title": false,
   "title_cell": "Table of Contents",
   "title_sidebar": "Contents",
   "toc_cell": false,
   "toc_position": {},
   "toc_section_display": true,
   "toc_window_display": true
  }
 },
 "nbformat": 4,
 "nbformat_minor": 5
}
