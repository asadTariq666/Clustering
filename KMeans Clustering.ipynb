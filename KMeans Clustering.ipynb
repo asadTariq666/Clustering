{
 "cells": [
  {
   "cell_type": "markdown",
   "id": "28a1326e",
   "metadata": {},
   "source": [
    "# K-Means algorithm implementation for Customer Segmentation"
   ]
  },
  {
   "cell_type": "markdown",
   "id": "173a1a6f",
   "metadata": {},
   "source": [
    "## Intall packages"
   ]
  },
  {
   "cell_type": "code",
   "execution_count": 1,
   "id": "c9d4220e",
   "metadata": {},
   "outputs": [
    {
     "name": "stdout",
     "output_type": "stream",
     "text": [
      "Requirement already satisfied: numpy in /Users/asadtariq/opt/anaconda3/envs/env-IDS2020/lib/python3.7/site-packages (1.21.5)\n",
      "Requirement already satisfied: Pandas in /Users/asadtariq/opt/anaconda3/envs/env-IDS2020/lib/python3.7/site-packages (1.3.5)\n",
      "Requirement already satisfied: python-dateutil>=2.7.3 in /Users/asadtariq/opt/anaconda3/envs/env-IDS2020/lib/python3.7/site-packages (from Pandas) (2.8.2)\n",
      "Requirement already satisfied: pytz>=2017.3 in /Users/asadtariq/opt/anaconda3/envs/env-IDS2020/lib/python3.7/site-packages (from Pandas) (2021.3)\n",
      "Requirement already satisfied: numpy>=1.17.3 in /Users/asadtariq/opt/anaconda3/envs/env-IDS2020/lib/python3.7/site-packages (from Pandas) (1.21.5)\n",
      "Requirement already satisfied: six>=1.5 in /Users/asadtariq/opt/anaconda3/envs/env-IDS2020/lib/python3.7/site-packages (from python-dateutil>=2.7.3->Pandas) (1.16.0)\n",
      "Requirement already satisfied: matplotlib in /Users/asadtariq/opt/anaconda3/envs/env-IDS2020/lib/python3.7/site-packages (3.5.1)\n",
      "Requirement already satisfied: pillow>=6.2.0 in /Users/asadtariq/opt/anaconda3/envs/env-IDS2020/lib/python3.7/site-packages (from matplotlib) (8.4.0)\n",
      "Requirement already satisfied: fonttools>=4.22.0 in /Users/asadtariq/opt/anaconda3/envs/env-IDS2020/lib/python3.7/site-packages (from matplotlib) (4.28.4)\n",
      "Requirement already satisfied: python-dateutil>=2.7 in /Users/asadtariq/opt/anaconda3/envs/env-IDS2020/lib/python3.7/site-packages (from matplotlib) (2.8.2)\n",
      "Requirement already satisfied: kiwisolver>=1.0.1 in /Users/asadtariq/opt/anaconda3/envs/env-IDS2020/lib/python3.7/site-packages (from matplotlib) (1.3.2)\n",
      "Requirement already satisfied: packaging>=20.0 in /Users/asadtariq/opt/anaconda3/envs/env-IDS2020/lib/python3.7/site-packages (from matplotlib) (21.3)\n",
      "Requirement already satisfied: pyparsing>=2.2.1 in /Users/asadtariq/opt/anaconda3/envs/env-IDS2020/lib/python3.7/site-packages (from matplotlib) (3.0.4)\n",
      "Requirement already satisfied: cycler>=0.10 in /Users/asadtariq/opt/anaconda3/envs/env-IDS2020/lib/python3.7/site-packages (from matplotlib) (0.11.0)\n",
      "Requirement already satisfied: numpy>=1.17 in /Users/asadtariq/opt/anaconda3/envs/env-IDS2020/lib/python3.7/site-packages (from matplotlib) (1.21.5)\n",
      "Requirement already satisfied: six>=1.5 in /Users/asadtariq/opt/anaconda3/envs/env-IDS2020/lib/python3.7/site-packages (from python-dateutil>=2.7->matplotlib) (1.16.0)\n"
     ]
    }
   ],
   "source": [
    "!pip install numpy\n",
    "!pip install Pandas\n",
    "!pip install matplotlib"
   ]
  },
  {
   "cell_type": "markdown",
   "id": "3b7ac64e",
   "metadata": {},
   "source": [
    "## Import Libraries"
   ]
  },
  {
   "cell_type": "code",
   "execution_count": 2,
   "id": "6046b260",
   "metadata": {},
   "outputs": [],
   "source": [
    "import numpy as np\n",
    "import matplotlib.pyplot as plt\n",
    "import pandas as pd\n",
    "from sklearn.linear_model import LinearRegression\n",
    "from sklearn.metrics import mean_squared_error, mean_absolute_error"
   ]
  },
  {
   "cell_type": "markdown",
   "id": "4e05e952",
   "metadata": {},
   "source": [
    "## Read data from csv exported from Database - *name file as final_points.csv"
   ]
  },
  {
   "cell_type": "code",
   "execution_count": 81,
   "id": "35b5e30e",
   "metadata": {},
   "outputs": [
    {
     "name": "stdout",
     "output_type": "stream",
     "text": [
      "First look at the data set: \n",
      "                           Companyname  Companyid  \\\n",
      "0            distripark.com Sp. z o.o.       1420   \n",
      "1                    Same Chemicals BV       1286   \n",
      "2        Chemische Fabrik Budenheim KG       7036   \n",
      "3  Preparados Quimicos De Navarra S.L.        435   \n",
      "4                            OOO SIBUR       1380   \n",
      "\n",
      "  business_development_manager  page_views    offers    orders  \\\n",
      "0            Oksana Senchyshyn    1.000000  1.000000  0.118182   \n",
      "1                Juan Alvarado    0.147317  0.578588  0.400000   \n",
      "2               Florian Pagels    0.028130  0.161731  1.000000   \n",
      "3                Juan Alvarado    0.499053  0.956720  0.445455   \n",
      "4            Oksana Senchyshyn    0.173834  0.000000  0.000000   \n",
      "\n",
      "   company_reply_rate  product_completness  total_order_value_in_euro  \\\n",
      "0            1.000000             0.727442                   0.048541   \n",
      "1            0.558600             0.563014                   0.545682   \n",
      "2            1.000000             0.736765                   1.000000   \n",
      "3            0.772414             0.724715                   0.057758   \n",
      "4            0.979592             0.661244                   0.000000   \n",
      "\n",
      "   monetize_amount  wootric_score  total_points  Groups on Final Points  \n",
      "0             0.00            1.0    564.862598                       0  \n",
      "1             0.00            0.8    473.732295                       0  \n",
      "2             0.00            0.0    420.591001                       0  \n",
      "3             0.08            0.0    410.019761                       0  \n",
      "4             1.00            0.0    390.733468                       0  \n"
     ]
    }
   ],
   "source": [
    "# Importing the dataset\n",
    "supplier = pd.read_csv('sup_seg_1500.csv')\n",
    "\n",
    "print('First look at the data set: ')\n",
    "print(supplier.head())"
   ]
  },
  {
   "cell_type": "markdown",
   "id": "a0e5ad68",
   "metadata": {},
   "source": [
    "## Normalizing data between 0-1 range"
   ]
  },
  {
   "cell_type": "code",
   "execution_count": 80,
   "id": "1ad35185",
   "metadata": {},
   "outputs": [],
   "source": [
    "from sklearn.preprocessing import MinMaxScaler\n",
    "from sklearn.cluster import KMeans  \n",
    "from pandas import DataFrame\n",
    "\n",
    "data = DataFrame(supplier, columns=['page_views','offers', 'orders','company_reply_rate', 'product_completness', 'total_order_value_in_euro', 'monetize_amount','wootric_score'])\n",
    "\n",
    "scaler = MinMaxScaler()\n",
    "scaler.fit(data)\n",
    "minmaxdata = scaler.transform(data)\n",
    "df =pd.DataFrame(data=minmaxdata, columns=['page_views','offers', 'orders','company_reply_rate', 'product_completness', 'total_order_value_in_euro', 'monetize_amount','wootric_score'])\n",
    "df.to_csv('normalizedValues.csv',index=False)"
   ]
  },
  {
   "cell_type": "code",
   "execution_count": 82,
   "id": "5034fee6",
   "metadata": {},
   "outputs": [
    {
     "name": "stdout",
     "output_type": "stream",
     "text": [
      "First look at the data set: \n",
      "                           Companyname  Companyid  \\\n",
      "0            distripark.com Sp. z o.o.       1420   \n",
      "1                    Same Chemicals BV       1286   \n",
      "2        Chemische Fabrik Budenheim KG       7036   \n",
      "3  Preparados Quimicos De Navarra S.L.        435   \n",
      "4                            OOO SIBUR       1380   \n",
      "\n",
      "  business_development_manager  page_views    offers    orders  \\\n",
      "0            Oksana Senchyshyn    1.000000  1.000000  0.118182   \n",
      "1                Juan Alvarado    0.147317  0.578588  0.400000   \n",
      "2               Florian Pagels    0.028130  0.161731  1.000000   \n",
      "3                Juan Alvarado    0.499053  0.956720  0.445455   \n",
      "4            Oksana Senchyshyn    0.173834  0.000000  0.000000   \n",
      "\n",
      "   company_reply_rate  product_completness  total_order_value_in_euro  \\\n",
      "0            1.000000             0.727442                   0.048541   \n",
      "1            0.558600             0.563014                   0.545682   \n",
      "2            1.000000             0.736765                   1.000000   \n",
      "3            0.772414             0.724715                   0.057758   \n",
      "4            0.979592             0.661244                   0.000000   \n",
      "\n",
      "   monetize_amount  wootric_score  total_points  Groups on Final Points  \n",
      "0             0.00            1.0    564.862598                       0  \n",
      "1             0.00            0.8    473.732295                       0  \n",
      "2             0.00            0.0    420.591001                       0  \n",
      "3             0.08            0.0    410.019761                       0  \n",
      "4             1.00            0.0    390.733468                       0  \n"
     ]
    }
   ],
   "source": [
    "# Importing the dataset\n",
    "supplier = pd.read_csv('sup_seg_1500.csv')\n",
    "\n",
    "print('First look at the data set: ')\n",
    "print(supplier.head())"
   ]
  },
  {
   "cell_type": "code",
   "execution_count": 83,
   "id": "add2f610",
   "metadata": {},
   "outputs": [
    {
     "name": "stdout",
     "output_type": "stream",
     "text": [
      "First look at the data set: \n",
      "   page_views    offers    orders  company_reply_rate  product_completness  \\\n",
      "0    1.000000  1.000000  0.118182            1.000000             0.727442   \n",
      "1    0.147317  0.578588  0.400000            0.558600             0.563014   \n",
      "2    0.028130  0.161731  1.000000            1.000000             0.736765   \n",
      "3    0.499053  0.956720  0.445455            0.772414             0.724715   \n",
      "4    0.173834  0.000000  0.000000            0.979592             0.661244   \n",
      "\n",
      "   total_order_value_in_euro  monetize_amount  wootric_score  \\\n",
      "0                   0.048541             0.00            1.0   \n",
      "1                   0.545682             0.00            0.8   \n",
      "2                   1.000000             0.00            0.0   \n",
      "3                   0.057758             0.08            0.0   \n",
      "4                   0.000000             1.00            0.0   \n",
      "\n",
      "   Groups on Final Points  \n",
      "0                       0  \n",
      "1                       0  \n",
      "2                       0  \n",
      "3                       0  \n",
      "4                       0  \n"
     ]
    }
   ],
   "source": [
    "from sklearn.cluster import KMeans  \n",
    "from pandas import DataFrame\n",
    "data = DataFrame(supplier, columns=['page_views','offers', 'orders','company_reply_rate', 'product_completness',\n",
    "                                    'total_order_value_in_euro', 'monetize_amount','wootric_score'\n",
    "                                    ,'Groups on Final Points'])\n",
    "\n",
    "page_views = data['page_views']\n",
    "offers =data['offers']\n",
    "orders = data['orders']\n",
    "company_reply_rate =data['company_reply_rate']\n",
    "product_completness =data['product_completness']\n",
    "total_order_value_in_euro =data['total_order_value_in_euro']\n",
    "monetize_amount =data['monetize_amount']\n",
    "wootric_score =data['wootric_score']\n",
    "\n",
    "print('First look at the data set: ')\n",
    "print(data.head())"
   ]
  },
  {
   "cell_type": "markdown",
   "id": "5d86fc05",
   "metadata": {},
   "source": [
    "## Zipping data in numpy array"
   ]
  },
  {
   "cell_type": "code",
   "execution_count": 84,
   "id": "5aa0b206",
   "metadata": {},
   "outputs": [
    {
     "name": "stdout",
     "output_type": "stream",
     "text": [
      "[[1.         1.         0.11818182 ... 0.04854141 0.         1.        ]\n",
      " [0.14731673 0.5785877  0.4        ... 0.54568249 0.         0.8       ]\n",
      " [0.02813048 0.16173121 1.         ... 1.         0.         0.        ]\n",
      " ...\n",
      " [0.         0.         0.         ... 0.         0.         0.        ]\n",
      " [0.         0.         0.         ... 0.         0.         0.        ]\n",
      " [0.         0.         0.         ... 0.         0.         0.        ]]\n"
     ]
    }
   ],
   "source": [
    "points_data = np.array(list(zip(page_views, offers,orders,company_reply_rate,\n",
    "                                product_completness,total_order_value_in_euro,monetize_amount,wootric_score)))\n",
    "#print(points_data)\n",
    "print(points_data)"
   ]
  },
  {
   "cell_type": "code",
   "execution_count": null,
   "id": "1967f027",
   "metadata": {},
   "outputs": [],
   "source": []
  },
  {
   "cell_type": "markdown",
   "id": "e755812a",
   "metadata": {},
   "source": [
    "## Clustering data with K-means algorithm and exporting data in ClusteredTestIteration.csv file - 2 Clusters"
   ]
  },
  {
   "cell_type": "code",
   "execution_count": 85,
   "id": "ed2dcb0c",
   "metadata": {},
   "outputs": [
    {
     "name": "stdout",
     "output_type": "stream",
     "text": [
      "   page_views    offers    orders  company_reply_rate  product_completness  \\\n",
      "0    1.000000  1.000000  0.118182            1.000000             0.727442   \n",
      "1    0.147317  0.578588  0.400000            0.558600             0.563014   \n",
      "2    0.028130  0.161731  1.000000            1.000000             0.736765   \n",
      "3    0.499053  0.956720  0.445455            0.772414             0.724715   \n",
      "4    0.173834  0.000000  0.000000            0.979592             0.661244   \n",
      "\n",
      "   total_order_value_in_euro  monetize_amount  wootric_score  \\\n",
      "0                   0.048541             0.00            1.0   \n",
      "1                   0.545682             0.00            0.8   \n",
      "2                   1.000000             0.00            0.0   \n",
      "3                   0.057758             0.08            0.0   \n",
      "4                   0.000000             1.00            0.0   \n",
      "\n",
      "   Groups on Final Points  KmeansClusterPredicted_2Clusters  \n",
      "0                       0                                 0  \n",
      "1                       0                                 0  \n",
      "2                       0                                 0  \n",
      "3                       0                                 0  \n",
      "4                       0                                 0  \n"
     ]
    }
   ],
   "source": [
    "import pandas as pd\n",
    "from sklearn.datasets import make_blobs\n",
    "from sklearn.cluster import KMeans\n",
    "\n",
    "kmeans = KMeans(n_clusters=2, init='k-means++',n_init=1000, max_iter=10000, tol=0.0001, verbose=0, random_state=None)\n",
    "KmeansClusterPredicted_2Clusters = kmeans.fit_predict(points_data)\n",
    "\n",
    "\n",
    "df = pd.DataFrame(data=KmeansClusterPredicted_2Clusters,columns=[\"Column1\"])\n",
    "data = data.assign(KmeansClusterPredicted_2Clusters=KmeansClusterPredicted_2Clusters)\n",
    "#print(data)\n",
    "data.to_csv('ClusteredTestIteration.csv')\n",
    "print(data.head())"
   ]
  },
  {
   "cell_type": "code",
   "execution_count": null,
   "id": "c018fe3c",
   "metadata": {},
   "outputs": [],
   "source": []
  },
  {
   "cell_type": "markdown",
   "id": "a8ae0fd4",
   "metadata": {},
   "source": [
    "## Clustering data with K-means algorithm and exporting data in ClusteredTestIteration.csv file - 3 Clusters\n"
   ]
  },
  {
   "cell_type": "code",
   "execution_count": 86,
   "id": "dcc15881",
   "metadata": {},
   "outputs": [
    {
     "name": "stdout",
     "output_type": "stream",
     "text": [
      "   page_views    offers    orders  company_reply_rate  product_completness  \\\n",
      "0    1.000000  1.000000  0.118182            1.000000             0.727442   \n",
      "1    0.147317  0.578588  0.400000            0.558600             0.563014   \n",
      "2    0.028130  0.161731  1.000000            1.000000             0.736765   \n",
      "3    0.499053  0.956720  0.445455            0.772414             0.724715   \n",
      "4    0.173834  0.000000  0.000000            0.979592             0.661244   \n",
      "\n",
      "   total_order_value_in_euro  monetize_amount  wootric_score  \\\n",
      "0                   0.048541             0.00            1.0   \n",
      "1                   0.545682             0.00            0.8   \n",
      "2                   1.000000             0.00            0.0   \n",
      "3                   0.057758             0.08            0.0   \n",
      "4                   0.000000             1.00            0.0   \n",
      "\n",
      "   Groups on Final Points  KmeansClusterPredicted_2Clusters  \\\n",
      "0                       0                                 0   \n",
      "1                       0                                 0   \n",
      "2                       0                                 0   \n",
      "3                       0                                 0   \n",
      "4                       0                                 0   \n",
      "\n",
      "   KmeansClusterPredicted_3Clusters  \n",
      "0                                 1  \n",
      "1                                 1  \n",
      "2                                 1  \n",
      "3                                 1  \n",
      "4                                 1  \n"
     ]
    }
   ],
   "source": [
    "import pandas as pd\n",
    "from sklearn.datasets import make_blobs\n",
    "from sklearn.cluster import KMeans\n",
    "\n",
    "kmeans = KMeans(n_clusters=3, init='k-means++',n_init=1000, max_iter=10000, tol=0.0001, verbose=0, random_state=None)\n",
    "KmeansClusterPredicted_3Clusters = kmeans.fit_predict(points_data)\n",
    "\n",
    "\n",
    "df = pd.DataFrame(data=KmeansClusterPredicted_3Clusters,columns=[\"Column1\"])\n",
    "data = data.assign(KmeansClusterPredicted_3Clusters=KmeansClusterPredicted_3Clusters)\n",
    "#print(data)\n",
    "data.to_csv('ClusteredTestIteration.csv')\n",
    "print(data.head())"
   ]
  },
  {
   "cell_type": "code",
   "execution_count": null,
   "id": "4b7a7366",
   "metadata": {},
   "outputs": [],
   "source": []
  },
  {
   "cell_type": "markdown",
   "id": "28b62d7c",
   "metadata": {},
   "source": [
    "## Clustering data with K-means algorithm and exporting data in ClusteredTestIteration.csv file - 4 Clusters\n"
   ]
  },
  {
   "cell_type": "code",
   "execution_count": 87,
   "id": "8a888757",
   "metadata": {},
   "outputs": [
    {
     "name": "stdout",
     "output_type": "stream",
     "text": [
      "   page_views    offers    orders  company_reply_rate  product_completness  \\\n",
      "0    1.000000  1.000000  0.118182            1.000000             0.727442   \n",
      "1    0.147317  0.578588  0.400000            0.558600             0.563014   \n",
      "2    0.028130  0.161731  1.000000            1.000000             0.736765   \n",
      "3    0.499053  0.956720  0.445455            0.772414             0.724715   \n",
      "4    0.173834  0.000000  0.000000            0.979592             0.661244   \n",
      "\n",
      "   total_order_value_in_euro  monetize_amount  wootric_score  \\\n",
      "0                   0.048541             0.00            1.0   \n",
      "1                   0.545682             0.00            0.8   \n",
      "2                   1.000000             0.00            0.0   \n",
      "3                   0.057758             0.08            0.0   \n",
      "4                   0.000000             1.00            0.0   \n",
      "\n",
      "   Groups on Final Points  KmeansClusterPredicted_2Clusters  \\\n",
      "0                       0                                 0   \n",
      "1                       0                                 0   \n",
      "2                       0                                 0   \n",
      "3                       0                                 0   \n",
      "4                       0                                 0   \n",
      "\n",
      "   KmeansClusterPredicted_3Clusters  KmeansClusterPredicted_4Clusters  \n",
      "0                                 1                                 3  \n",
      "1                                 1                                 3  \n",
      "2                                 1                                 1  \n",
      "3                                 1                                 1  \n",
      "4                                 1                                 1  \n"
     ]
    }
   ],
   "source": [
    "import pandas as pd\n",
    "from sklearn.datasets import make_blobs\n",
    "from sklearn.cluster import KMeans\n",
    "\n",
    "kmeans = KMeans(n_clusters=4, init='k-means++',n_init=1000, max_iter=10000, tol=0.0001, verbose=0, random_state=None)\n",
    "KmeansClusterPredicted_4Clusters = kmeans.fit_predict(points_data)\n",
    "\n",
    "\n",
    "df = pd.DataFrame(data=KmeansClusterPredicted_4Clusters,columns=[\"Column1\"])\n",
    "data = data.assign(KmeansClusterPredicted_4Clusters=KmeansClusterPredicted_4Clusters)\n",
    "#print(data)\n",
    "data.to_csv('ClusteredTestIteration.csv')\n",
    "print(data.head())"
   ]
  },
  {
   "cell_type": "code",
   "execution_count": null,
   "id": "f559c5ca",
   "metadata": {},
   "outputs": [],
   "source": []
  },
  {
   "cell_type": "markdown",
   "id": "4b31adbd",
   "metadata": {},
   "source": [
    "## Clustering data with K-means algorithm and exporting data in ClusteredTestIteration.csv file - 5 Clusters\n"
   ]
  },
  {
   "cell_type": "code",
   "execution_count": 125,
   "id": "c4ad73cd",
   "metadata": {},
   "outputs": [
    {
     "name": "stdout",
     "output_type": "stream",
     "text": [
      "   page_views    offers    orders  company_reply_rate  product_completness  \\\n",
      "0    1.000000  1.000000  0.118182            1.000000             0.727442   \n",
      "1    0.147317  0.578588  0.400000            0.558600             0.563014   \n",
      "2    0.028130  0.161731  1.000000            1.000000             0.736765   \n",
      "3    0.499053  0.956720  0.445455            0.772414             0.724715   \n",
      "4    0.173834  0.000000  0.000000            0.979592             0.661244   \n",
      "\n",
      "   total_order_value_in_euro  monetize_amount  wootric_score  \\\n",
      "0                   0.048541             0.00            1.0   \n",
      "1                   0.545682             0.00            0.8   \n",
      "2                   1.000000             0.00            0.0   \n",
      "3                   0.057758             0.08            0.0   \n",
      "4                   0.000000             1.00            0.0   \n",
      "\n",
      "   Groups on Final Points  KmeansClusterPredicted_2Clusters  \\\n",
      "0                       0                                 0   \n",
      "1                       0                                 0   \n",
      "2                       0                                 0   \n",
      "3                       0                                 0   \n",
      "4                       0                                 0   \n",
      "\n",
      "   KmeansClusterPredicted_3Clusters  KmeansClusterPredicted_4Clusters  \\\n",
      "0                                 1                                 3   \n",
      "1                                 1                                 3   \n",
      "2                                 1                                 1   \n",
      "3                                 1                                 1   \n",
      "4                                 1                                 1   \n",
      "\n",
      "   KmeansClusterPredicted_5Clusters  KmeansClusterPredicted_6Clusters  \\\n",
      "0                                 4                                 5   \n",
      "1                                 4                                 5   \n",
      "2                                 0                                 3   \n",
      "3                                 0                                 3   \n",
      "4                                 0                                 3   \n",
      "\n",
      "   KmeansClusterPredicted_7Clusters  KmeansClusterPredicted_8Clusters  \n",
      "0                                 5                                 4  \n",
      "1                                 5                                 4  \n",
      "2                                 1                                 0  \n",
      "3                                 1                                 0  \n",
      "4                                 1                                 0  \n"
     ]
    }
   ],
   "source": [
    "import pandas as pd\n",
    "from sklearn.datasets import make_blobs\n",
    "from sklearn.cluster import KMeans\n",
    "\n",
    "kmeans = KMeans(n_clusters=5, init='k-means++',n_init=10000, max_iter=100000, tol=0.0001, verbose=0, random_state=None)\n",
    "KmeansClusterPredicted_5Clusters = kmeans.fit_predict(points_data)\n",
    "\n",
    "\n",
    "df = pd.DataFrame(data=KmeansClusterPredicted_5Clusters,columns=[\"Column1\"])\n",
    "data = data.assign(KmeansClusterPredicted_5Clusters=KmeansClusterPredicted_5Clusters)\n",
    "#print(data)\n",
    "data.to_csv('ClusteredTestIteration.csv')\n",
    "print(data.head())"
   ]
  },
  {
   "cell_type": "code",
   "execution_count": null,
   "id": "c4228279",
   "metadata": {},
   "outputs": [],
   "source": []
  },
  {
   "cell_type": "code",
   "execution_count": 106,
   "id": "5d95a8b0",
   "metadata": {},
   "outputs": [
    {
     "data": {
      "text/plain": [
       "<matplotlib.collections.PathCollection at 0x7f7f7d311c10>"
      ]
     },
     "execution_count": 106,
     "metadata": {},
     "output_type": "execute_result"
    },
    {
     "data": {
      "image/png": "[encoded data removed]",
      "text/plain": [
       "<Figure size 432x288 with 1 Axes>"
      ]
     },
     "metadata": {
      "needs_background": "light"
     },
     "output_type": "display_data"
    }
   ],
   "source": [
    "cluster_data = np.array(list(zip(identity, final_points)))\n",
    "\n",
    "#Define 'cluster_num' for for number of clusters.\n",
    "\n",
    "cluster_num = 5\n",
    "kmeans = KMeans(cluster_num).fit(cluster_data)\n",
    "clusters = kmeans.labels_\n",
    "centroids = kmeans.cluster_centers_\n",
    "\n",
    "fig, plots = plt.subplots()\n",
    "plt.ylabel('Final Points')\n",
    "plt.xlabel('Ids')\n",
    "colors = ['r', 'g','b','y','c']\n",
    "for cluster_index in range(cluster_num) :\n",
    "    sub_set = np.array([cluster_data[i] for i in range(len(cluster_data)) if clusters[i] == cluster_index])\n",
    "    if len(sub_set) == 0 :\n",
    "        continue\n",
    "    plots.scatter(sub_set[:,0], sub_set[:,1], s = 10, c = colors[cluster_index])\n",
    "plots.scatter(centroids[:,0], centroids[:,1], marker = '*', s = 300, c = 'k')"
   ]
  },
  {
   "cell_type": "code",
   "execution_count": 127,
   "id": "8f9a3175",
   "metadata": {},
   "outputs": [
    {
     "data": {
      "text/plain": [
       "array([[ 43,   2,   2,   4,  49],\n",
       "       [273,  25, 101,   1,   0],\n",
       "       [  0, 494, 259, 247,   0],\n",
       "       [  0,   0,   0,   0,   0],\n",
       "       [  0,   0,   0,   0,   0]])"
      ]
     },
     "execution_count": 127,
     "metadata": {},
     "output_type": "execute_result"
    }
   ],
   "source": [
    "# Final Points on the y axis, Cluster predicted on the x axis\n",
    "from sklearn.metrics import confusion_matrix\n",
    "identity =cluster['Groups on Final Points'].values\n",
    "cluster_number= cluster['KmeansClusterPredicted_5Clusters'].values\n",
    "confusion_matrix(identity,cluster_number,labels=[0,1,2,3,4])"
   ]
  },
  {
   "cell_type": "code",
   "execution_count": 122,
   "id": "226234a8",
   "metadata": {},
   "outputs": [
    {
     "data": {
      "text/plain": [
       "array([[  5,   2,   4,  38,   2,  49],\n",
       "       [103,  89,   1, 205,   2,   0],\n",
       "       [ 16, 259, 246,   0, 479,   0],\n",
       "       [  0,   0,   0,   0,   0,   0],\n",
       "       [  0,   0,   0,   0,   0,   0],\n",
       "       [  0,   0,   0,   0,   0,   0]])"
      ]
     },
     "execution_count": 122,
     "metadata": {},
     "output_type": "execute_result"
    }
   ],
   "source": [
    "# Final Points on the y axis, Cluster predicted on the x axis\n",
    "from sklearn.metrics import confusion_matrix\n",
    "identity =cluster['Groups on Final Points'].values\n",
    "cluster_number= cluster['KmeansClusterPredicted_6Clusters'].values\n",
    "confusion_matrix(identity,cluster_number,labels=[0,1,2,3,4,5])"
   ]
  },
  {
   "cell_type": "code",
   "execution_count": 123,
   "id": "0d2780a8",
   "metadata": {},
   "outputs": [
    {
     "data": {
      "text/plain": [
       "array([[  1,  38,   0,  17,   1,  37,   6],\n",
       "       [  1, 205,   2,   0,  89,   0, 103],\n",
       "       [246,   0, 479,   0, 259,   0,  16],\n",
       "       [  0,   0,   0,   0,   0,   0,   0],\n",
       "       [  0,   0,   0,   0,   0,   0,   0],\n",
       "       [  0,   0,   0,   0,   0,   0,   0],\n",
       "       [  0,   0,   0,   0,   0,   0,   0]])"
      ]
     },
     "execution_count": 123,
     "metadata": {},
     "output_type": "execute_result"
    }
   ],
   "source": [
    "# Final Points on the y axis, Cluster predicted on the x axis\n",
    "from sklearn.metrics import confusion_matrix\n",
    "identity =cluster['Groups on Final Points'].values\n",
    "cluster_number= cluster['KmeansClusterPredicted_7Clusters'].values\n",
    "confusion_matrix(identity,cluster_number,labels=[0,1,2,3,4,5,6])"
   ]
  },
  {
   "cell_type": "code",
   "execution_count": 124,
   "id": "ed0069a2",
   "metadata": {},
   "outputs": [
    {
     "data": {
      "text/plain": [
       "array([[ 25,   0,   1,   1,  37,  14,  17,   5],\n",
       "       [102,   1,  88,   1,   0, 130,   0,  78],\n",
       "       [  0, 475, 259, 246,   0,   0,   0,  20],\n",
       "       [  0,   0,   0,   0,   0,   0,   0,   0],\n",
       "       [  0,   0,   0,   0,   0,   0,   0,   0],\n",
       "       [  0,   0,   0,   0,   0,   0,   0,   0],\n",
       "       [  0,   0,   0,   0,   0,   0,   0,   0],\n",
       "       [  0,   0,   0,   0,   0,   0,   0,   0]])"
      ]
     },
     "execution_count": 124,
     "metadata": {},
     "output_type": "execute_result"
    }
   ],
   "source": [
    "# Final Points on the y axis, Cluster predicted on the x axis\n",
    "from sklearn.metrics import confusion_matrix\n",
    "identity =cluster['Groups on Final Points'].values\n",
    "cluster_number= cluster['KmeansClusterPredicted_8Clusters'].values\n",
    "confusion_matrix(identity,cluster_number,labels=[0,1,2,3,4,5,6,7])"
   ]
  },
  {
   "cell_type": "code",
   "execution_count": 134,
   "id": "096b6686",
   "metadata": {},
   "outputs": [
    {
     "name": "stdout",
     "output_type": "stream",
     "text": [
      "First look at the data set: \n",
      "                           Companyname  Companyid  \\\n",
      "0            distripark.com Sp. z o.o.       1420   \n",
      "1                    Same Chemicals BV       1286   \n",
      "2        Chemische Fabrik Budenheim KG       7036   \n",
      "3  Preparados Quimicos De Navarra S.L.        435   \n",
      "4                            OOO SIBUR       1380   \n",
      "\n",
      "  business_development_manager  page_views    offers    orders  \\\n",
      "0            Oksana Senchyshyn    1.000000  1.000000  0.118182   \n",
      "1                Juan Alvarado    0.147317  0.578588  0.400000   \n",
      "2               Florian Pagels    0.028130  0.161731  1.000000   \n",
      "3                Juan Alvarado    0.499053  0.956720  0.445455   \n",
      "4            Oksana Senchyshyn    0.173834  0.000000  0.000000   \n",
      "\n",
      "   company_reply_rate  product_completness  total_order_value_in_euro  \\\n",
      "0            1.000000             0.727442                   0.048541   \n",
      "1            0.558600             0.563014                   0.545682   \n",
      "2            1.000000             0.736765                   1.000000   \n",
      "3            0.772414             0.724715                   0.057758   \n",
      "4            0.979592             0.661244                   0.000000   \n",
      "\n",
      "   monetize_amount  wootric_score  total_points  Groups on Final Points  \\\n",
      "0             0.00            1.0    564.862598                       0   \n",
      "1             0.00            0.8    473.732295                       0   \n",
      "2             0.00            0.0    420.591001                       0   \n",
      "3             0.08            0.0    410.019761                       0   \n",
      "4             1.00            0.0    390.733468                       0   \n",
      "\n",
      "   Unnamed: 13  cluster  \n",
      "0          NaN        5  \n",
      "1          NaN        5  \n",
      "2          NaN        5  \n",
      "3          NaN        5  \n",
      "4          NaN        2  \n"
     ]
    }
   ],
   "source": [
    "# Importing the dataset\n",
    "cluster = pd.read_csv('sup_seg_1500.csv')\n",
    "\n",
    "print('First look at the data set: ')\n",
    "print(cluster.head())"
   ]
  },
  {
   "cell_type": "code",
   "execution_count": 135,
   "id": "505ea74a",
   "metadata": {},
   "outputs": [
    {
     "data": {
      "text/plain": [
       "array([[  0,  51,  39,   2,   2,   6],\n",
       "       [  0,   0, 278,  10, 112,   0],\n",
       "       [  0,   0,   0, 503, 497,   0],\n",
       "       [  0,   0,   0,   0,   0,   0],\n",
       "       [  0,   0,   0,   0,   0,   0],\n",
       "       [  0,   0,   0,   0,   0,   0]])"
      ]
     },
     "execution_count": 135,
     "metadata": {},
     "output_type": "execute_result"
    }
   ],
   "source": [
    "# Final Points on the y axis, Cluster predicted on the x axis\n",
    "from sklearn.metrics import confusion_matrix\n",
    "identity =cluster['Groups on Final Points'].values\n",
    "cluster_number= cluster['cluster'].values\n",
    "confusion_matrix(identity,cluster_number,labels=[0,1,2,3,4,5])"
   ]
  },
  {
   "cell_type": "code",
   "execution_count": null,
   "id": "719b92a2",
   "metadata": {},
   "outputs": [],
   "source": []
  }
 ],
 "metadata": {
  "kernelspec": {
   "display_name": "Python 3 (ipykernel)",
   "language": "python",
   "name": "python3"
  },
  "language_info": {
   "codemirror_mode": {
    "name": "ipython",
    "version": 3
   },
   "file_extension": ".py",
   "mimetype": "text/x-python",
   "name": "python",
   "nbconvert_exporter": "python",
   "pygments_lexer": "ipython3",
   "version": "3.7.11"
  },
  "toc": {
   "base_numbering": 1,
   "nav_menu": {},
   "number_sections": false,
   "sideBar": true,
   "skip_h1_title": false,
   "title_cell": "Table of Contents",
   "title_sidebar": "Contents",
   "toc_cell": false,
   "toc_position": {},
   "toc_section_display": true,
   "toc_window_display": true
  }
 },
 "nbformat": 4,
 "nbformat_minor": 5
}
