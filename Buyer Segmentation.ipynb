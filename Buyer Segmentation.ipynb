{
 "cells": [
  {
   "cell_type": "markdown",
   "id": "28a1326e",
   "metadata": {},
   "source": [
    "# K-Means algorithm implementation for Customer Segmentation"
   ]
  },
  {
   "cell_type": "markdown",
   "id": "173a1a6f",
   "metadata": {},
   "source": [
    "## Intall packages"
   ]
  },
  {
   "cell_type": "code",
   "execution_count": null,
   "id": "c9d4220e",
   "metadata": {},
   "outputs": [],
   "source": [
    "!pip install numpy\n",
    "!pip install Pandas\n",
    "!pip install matplotlib"
   ]
  },
  {
   "cell_type": "markdown",
   "id": "3b7ac64e",
   "metadata": {},
   "source": [
    "## Import Libraries"
   ]
  },
  {
   "cell_type": "code",
   "execution_count": null,
   "id": "6046b260",
   "metadata": {},
   "outputs": [],
   "source": [
    "import numpy as np\n",
    "import matplotlib.pyplot as plt\n",
    "import pandas as pd\n",
    "from sklearn.linear_model import LinearRegression\n",
    "from sklearn.metrics import mean_squared_error, mean_absolute_error"
   ]
  },
  {
   "cell_type": "markdown",
   "id": "4e05e952",
   "metadata": {},
   "source": [
    "## Read data from csv exported from Database - *name file as final_points.csv"
   ]
  },
  {
   "cell_type": "code",
   "execution_count": 2,
   "id": "35b5e30e",
   "metadata": {},
   "outputs": [
    {
     "name": "stdout",
     "output_type": "stream",
     "text": [
      "First look at the data set: \n",
      "                             Company Name  Company id  Count Page View  \\\n",
      "0  Hüttenes-Albertus Chemische Werke GmbH         326              772   \n",
      "1                                Impag AG       23107                4   \n",
      "2         STOCKMEIER Chemie GmbH & Co. KG       10176               34   \n",
      "3                 Rascor International AG        3406              385   \n",
      "4            JARBUR EUROCHEM Spółka Jawna       19068             7169   \n",
      "\n",
      "   Count Search  Count Requests  Count Orders  Count Session Id  \\\n",
      "0           344              27             4               133   \n",
      "1             0              13             0                 2   \n",
      "2             1              12            61                14   \n",
      "3            78              10             1               105   \n",
      "4           944             209             1               487   \n",
      "\n",
      "   Total Order Value In Euro  Monetize Amount  Final Points  \n",
      "0                    30800.0          4306.61    465.736647  \n",
      "1                        0.0          3619.00    344.562317  \n",
      "2                  1500480.0             0.00    309.085291  \n",
      "3                        0.0          2763.60    281.789023  \n",
      "4                    11475.0             0.00    273.924583  \n"
     ]
    }
   ],
   "source": [
    "# Importing the dataset\n",
    "buyer = pd.read_csv('final_points.csv')\n",
    "\n",
    "print('First look at the data set: ')\n",
    "print(buyer.head())"
   ]
  },
  {
   "cell_type": "markdown",
   "id": "4194ba6a",
   "metadata": {},
   "source": [
    "## Normalizing data between 0-1 range"
   ]
  },
  {
   "cell_type": "code",
   "execution_count": 3,
   "id": "91c681c9",
   "metadata": {},
   "outputs": [],
   "source": [
    "from sklearn.preprocessing import MinMaxScaler\n",
    "from sklearn.cluster import KMeans  \n",
    "from pandas import DataFrame\n",
    "\n",
    "data = DataFrame(buyer, columns=['Count Page View','Count Search', 'Count Requests','Count Orders', 'Count Session Id', 'Total Order Value In Euro', 'Monetize Amount'])\n",
    "\n",
    "scaler = MinMaxScaler()\n",
    "scaler.fit(data)\n",
    "minmaxdata = scaler.transform(data)\n",
    "df =pd.DataFrame(data=minmaxdata, columns=['Count Page View','Count Search', 'Count Requests','Count Orders', 'Count Session Id', 'Total Order Value In Euro', 'Monetize Amount'])\n",
    "df.to_csv('normalizedValues.csv',index=False)"
   ]
  },
  {
   "cell_type": "markdown",
   "id": "7c86a106",
   "metadata": {},
   "source": [
    "## Integrating Company id with data extracted from database"
   ]
  },
  {
   "cell_type": "code",
   "execution_count": 43,
   "id": "a343104b",
   "metadata": {},
   "outputs": [
    {
     "name": "stdout",
     "output_type": "stream",
     "text": [
      "First look at the data set: \n",
      "                             Company Name  Company id  Count Page View  \\\n",
      "0  Hüttenes-Albertus Chemische Werke GmbH         326         0.107686   \n",
      "1                                Impag AG       23107         0.000558   \n",
      "2         STOCKMEIER Chemie GmbH & Co. KG       10176         0.004743   \n",
      "3                 Rascor International AG        3406         0.053703   \n",
      "4            JARBUR EUROCHEM Spółka Jawna       19068         1.000000   \n",
      "\n",
      "   Count Search  Count Requests  Count Orders  Count Session Id  \\\n",
      "0      0.333011        0.085443      0.065574          0.228916   \n",
      "1      0.000000        0.041139      0.000000          0.003442   \n",
      "2      0.000968        0.037975      1.000000          0.024096   \n",
      "3      0.075508        0.031646      0.016393          0.180723   \n",
      "4      0.913843        0.661392      0.016393          0.838210   \n",
      "\n",
      "   Total Order Value In Euro  Monetize Amount  Final Points  \\\n",
      "0                   0.020527         1.000000    465.736647   \n",
      "1                   0.000000         0.840336    344.562317   \n",
      "2                   1.000000         0.000000    309.085291   \n",
      "3                   0.000000         0.641711    281.789023   \n",
      "4                   0.007648         0.000000    273.924583   \n",
      "\n",
      "   Groups on Final Points  \n",
      "0                       1  \n",
      "1                       1  \n",
      "2                       1  \n",
      "3                       1  \n",
      "4                       1  \n"
     ]
    }
   ],
   "source": [
    "buyer2 = pd.read_csv('Buyer_segmentation.csv')\n",
    "data = DataFrame(buyer2, columns=['Company Name','Company id','Count Page View','Count Search', 'Count Requests','Count Orders', 'Count Session Id', 'Total Order Value In Euro', 'Monetize Amount','Final Points','Groups on Final Points'])\n",
    "\n",
    "CountRequests = data['Count Requests']\n",
    "PageCount =data['Count Page View']\n",
    "CountSearch = data['Count Search']\n",
    "CountOrders =data['Count Orders']\n",
    "CountSessionId =data['Count Session Id']\n",
    "TotalOrder =data['Total Order Value In Euro']\n",
    "MonetizeAmount =data['Monetize Amount']\n",
    "\n",
    "print('First look at the data set: ')\n",
    "print(data.head())"
   ]
  },
  {
   "cell_type": "markdown",
   "id": "5d86fc05",
   "metadata": {},
   "source": [
    "## Zipping data in numpy array"
   ]
  },
  {
   "cell_type": "code",
   "execution_count": 44,
   "id": "5aa0b206",
   "metadata": {},
   "outputs": [
    {
     "name": "stdout",
     "output_type": "stream",
     "text": [
      "[[8.54430380e-02 1.07685870e-01 3.33010649e-01 ... 2.28915663e-01\n",
      "  2.05267650e-02 1.00000000e+00]\n",
      " [4.11392410e-02 5.57958000e-04 0.00000000e+00 ... 3.44234100e-03\n",
      "  0.00000000e+00 8.40336134e-01]\n",
      " [3.79746840e-02 4.74264200e-03 9.68054000e-04 ... 2.40963860e-02\n",
      "  1.00000000e+00 0.00000000e+00]\n",
      " ...\n",
      " [0.00000000e+00 1.39489000e-04 0.00000000e+00 ... 0.00000000e+00\n",
      "  0.00000000e+00 0.00000000e+00]\n",
      " [0.00000000e+00 1.39489000e-04 0.00000000e+00 ... 0.00000000e+00\n",
      "  0.00000000e+00 0.00000000e+00]\n",
      " [0.00000000e+00 1.39489000e-04 0.00000000e+00 ... 0.00000000e+00\n",
      "  0.00000000e+00 0.00000000e+00]]\n"
     ]
    }
   ],
   "source": [
    "points_data = np.array(list(zip(CountRequests, PageCount,CountSearch,CountOrders,CountSessionId,TotalOrder,MonetizeAmount)))\n",
    "#print(points_data)\n",
    "print(points_data)"
   ]
  },
  {
   "cell_type": "markdown",
   "id": "d9f6b4d1",
   "metadata": {},
   "source": [
    "## Clustering data with K-means algorithm and exporting data in ClusteredTestIteration.csv file"
   ]
  },
  {
   "cell_type": "code",
   "execution_count": 50,
   "id": "c572454d",
   "metadata": {},
   "outputs": [
    {
     "name": "stdout",
     "output_type": "stream",
     "text": [
      "                             Company Name  Company id  Count Page View  \\\n",
      "0  Hüttenes-Albertus Chemische Werke GmbH         326         0.107686   \n",
      "1                                Impag AG       23107         0.000558   \n",
      "2         STOCKMEIER Chemie GmbH & Co. KG       10176         0.004743   \n",
      "3                 Rascor International AG        3406         0.053703   \n",
      "4            JARBUR EUROCHEM Spółka Jawna       19068         1.000000   \n",
      "\n",
      "   Count Search  Count Requests  Count Orders  Count Session Id  \\\n",
      "0      0.333011        0.085443      0.065574          0.228916   \n",
      "1      0.000000        0.041139      0.000000          0.003442   \n",
      "2      0.000968        0.037975      1.000000          0.024096   \n",
      "3      0.075508        0.031646      0.016393          0.180723   \n",
      "4      0.913843        0.661392      0.016393          0.838210   \n",
      "\n",
      "   Total Order Value In Euro  Monetize Amount  Final Points  \\\n",
      "0                   0.020527         1.000000    465.736647   \n",
      "1                   0.000000         0.840336    344.562317   \n",
      "2                   1.000000         0.000000    309.085291   \n",
      "3                   0.000000         0.641711    281.789023   \n",
      "4                   0.007648         0.000000    273.924583   \n",
      "\n",
      "   Groups on Final Points  KmeansClusterPredicted  \n",
      "0                       1                       3  \n",
      "1                       1                       3  \n",
      "2                       1                       0  \n",
      "3                       1                       3  \n",
      "4                       1                       1  \n"
     ]
    }
   ],
   "source": [
    "import pandas as pd\n",
    "from sklearn.datasets.samples_generator import make_blobs\n",
    "from sklearn.cluster import KMeans\n",
    "\n",
    "kmeans = KMeans(n_clusters=5, init='k-means++',n_init=1, max_iter=50000, tol=0.0001, verbose=0, random_state=None)\n",
    "KmeansClusterPredicted = kmeans.fit_predict(points_data)\n",
    "\n",
    "\n",
    "df = pd.DataFrame(data=KmeansClusterPredicted,columns=[\"Column1\"])\n",
    "data = data.assign(KmeansClusterPredicted=KmeansClusterPredicted)\n",
    "#print(data)\n",
    "data.to_csv('ClusteredTestIteration.csv')\n",
    "print(data.head())\n"
   ]
  },
  {
   "cell_type": "markdown",
   "id": "1fbf0d85",
   "metadata": {},
   "source": [
    "## Integrating results from Rapid Miner tool for cross verification"
   ]
  },
  {
   "cell_type": "code",
   "execution_count": 61,
   "id": "66a49b05",
   "metadata": {},
   "outputs": [
    {
     "name": "stdout",
     "output_type": "stream",
     "text": [
      "First look at the data set: \n",
      "   id                            Company Name  Company id  Count Page View  \\\n",
      "0   1  Hüttenes-Albertus Chemische Werke GmbH         326         0.107686   \n",
      "1   2                                Impag AG       23107         0.000558   \n",
      "2   3         STOCKMEIER Chemie GmbH & Co. KG       10176         0.004743   \n",
      "3   4                 Rascor International AG        3406         0.053703   \n",
      "4   5            JARBUR EUROCHEM Spółka Jawna       19068         1.000000   \n",
      "\n",
      "   Count Search  Count Requests  Count Orders  Count Session Id  \\\n",
      "0      0.333011        0.085443      0.065574          0.228916   \n",
      "1      0.000000        0.041139      0.000000          0.003442   \n",
      "2      0.000968        0.037975      1.000000          0.024096   \n",
      "3      0.075508        0.031646      0.016393          0.180723   \n",
      "4      0.913843        0.661392      0.016393          0.838210   \n",
      "\n",
      "   Total Order Value In Euro  Monetize Amount  Final Points  \\\n",
      "0                   0.020527         1.000000    465.736647   \n",
      "1                   0.000000         0.840336    344.562317   \n",
      "2                   1.000000         0.000000    309.085291   \n",
      "3                   0.000000         0.641711    281.789023   \n",
      "4                   0.007648         0.000000    273.924583   \n",
      "\n",
      "   Groups on Final Points  ClusterPredicted K-means  cluster Kmeans 10000 runs  \n",
      "0                       1                         3                          3  \n",
      "1                       1                         3                          3  \n",
      "2                       1                         3                          0  \n",
      "3                       1                         3                          3  \n",
      "4                       1                         2                          1  \n"
     ]
    }
   ],
   "source": [
    "# Importing the dataset\n",
    "cluster = pd.read_csv('Clustered via Kmeans.csv')\n",
    "\n",
    "print('First look at the data set: ')\n",
    "print(cluster.head())"
   ]
  },
  {
   "cell_type": "markdown",
   "id": "7bcd1d2a",
   "metadata": {},
   "source": [
    "## Extracting columns for Plotting"
   ]
  },
  {
   "cell_type": "code",
   "execution_count": 64,
   "id": "aa25106b",
   "metadata": {},
   "outputs": [],
   "source": [
    "identity =cluster['Final Points'].values\n",
    "cluster_number= cluster['cluster Kmeans 10000 runs'].values\n"
   ]
  },
  {
   "cell_type": "markdown",
   "id": "0851b542",
   "metadata": {},
   "source": [
    "## Plot with w.r.t to serial number and Cluster number"
   ]
  },
  {
   "cell_type": "code",
   "execution_count": 65,
   "id": "8a05297e",
   "metadata": {},
   "outputs": [
    {
     "data": {
      "text/plain": [
       "<matplotlib.collections.PathCollection at 0x7fb289186cd0>"
      ]
     },
     "execution_count": 65,
     "metadata": {},
     "output_type": "execute_result"
    },
    {
     "data": {
      "image/png": "[encoded data removed]",
      "text/plain": [
       "<Figure size 432x288 with 1 Axes>"
      ]
     },
     "metadata": {
      "needs_background": "light"
     },
     "output_type": "display_data"
    }
   ],
   "source": [
    "cluster_data = np.array(list(zip(identity, cluster_number)))\n",
    "\n",
    "#Define 'cluster_num' for for number of clusters.\n",
    "\n",
    "cluster_num = 5\n",
    "kmeans = KMeans(cluster_num).fit(cluster_data)\n",
    "clusters = kmeans.labels_\n",
    "centroids = kmeans.cluster_centers_\n",
    "\n",
    "fig, plots = plt.subplots()\n",
    "colors = ['r', 'g', 'b', 'y', 'm']\n",
    "for cluster_index in range(cluster_num) :\n",
    "    sub_set = np.array([cluster_data[i] for i in range(len(cluster_data)) if clusters[i] == cluster_index])\n",
    "    if len(sub_set) == 0 :\n",
    "        continue\n",
    "    plots.scatter(sub_set[:,0], sub_set[:,1], s = 10, c = colors[cluster_index])\n",
    "plots.scatter(centroids[:,0], centroids[:,1], marker = '*', s = 300, c = 'k')"
   ]
  },
  {
   "cell_type": "markdown",
   "id": "8bb9733d",
   "metadata": {},
   "source": [
    "## Plot with w.r.t to serial number and Cluster number"
   ]
  },
  {
   "cell_type": "code",
   "execution_count": 69,
   "id": "408954c0",
   "metadata": {},
   "outputs": [
    {
     "data": {
      "text/plain": [
       "<matplotlib.collections.PathCollection at 0x7fb289071c10>"
      ]
     },
     "execution_count": 69,
     "metadata": {},
     "output_type": "execute_result"
    },
    {
     "data": {
      "image/png": "[encoded data removed]",
      "text/plain": [
       "<Figure size 432x288 with 1 Axes>"
      ]
     },
     "metadata": {
      "needs_background": "light"
     },
     "output_type": "display_data"
    }
   ],
   "source": [
    "cluster_data = np.array(list(zip(identity, cluster_number)))\n",
    "\n",
    "#Define 'cluster_num' for for number of clusters.\n",
    "\n",
    "cluster_num = 5\n",
    "kmeans = KMeans(cluster_num).fit(cluster_data)\n",
    "clusters = kmeans.labels_\n",
    "centroids = kmeans.cluster_centers_\n",
    "\n",
    "fig, plots = plt.subplots()\n",
    "colors = ['r', 'g', 'b', 'y', 'm']\n",
    "for cluster_index in range(cluster_num) :\n",
    "    sub_set = np.array([cluster_data[i] for i in range(len(cluster_data)) if clusters[i] == cluster_index])\n",
    "    if len(sub_set) == 0 :\n",
    "        continue\n",
    "    plots.scatter(sub_set[:,1], sub_set[:,0], s = 10, c = colors[cluster_index])\n",
    "plots.scatter(centroids[:,1], centroids[:,0], marker = '*', s = 200, c = 'k')"
   ]
  },
  {
   "cell_type": "markdown",
   "id": "45a9c83f",
   "metadata": {},
   "source": [
    "## Other clustering techniques"
   ]
  },
  {
   "cell_type": "code",
   "execution_count": 33,
   "id": "a6999bde",
   "metadata": {},
   "outputs": [],
   "source": [
    "from sklearn.cluster import DBSCAN"
   ]
  },
  {
   "cell_type": "code",
   "execution_count": 51,
   "id": "27ff9d0d",
   "metadata": {},
   "outputs": [
    {
     "name": "stdout",
     "output_type": "stream",
     "text": [
      "                             Company Name  Company id  Count Page View  \\\n",
      "0  Hüttenes-Albertus Chemische Werke GmbH         326         0.107686   \n",
      "1                                Impag AG       23107         0.000558   \n",
      "2         STOCKMEIER Chemie GmbH & Co. KG       10176         0.004743   \n",
      "3                 Rascor International AG        3406         0.053703   \n",
      "4            JARBUR EUROCHEM Spółka Jawna       19068         1.000000   \n",
      "\n",
      "   Count Search  Count Requests  Count Orders  Count Session Id  \\\n",
      "0      0.333011        0.085443      0.065574          0.228916   \n",
      "1      0.000000        0.041139      0.000000          0.003442   \n",
      "2      0.000968        0.037975      1.000000          0.024096   \n",
      "3      0.075508        0.031646      0.016393          0.180723   \n",
      "4      0.913843        0.661392      0.016393          0.838210   \n",
      "\n",
      "   Total Order Value In Euro  Monetize Amount  Final Points  \\\n",
      "0                   0.020527         1.000000    465.736647   \n",
      "1                   0.000000         0.840336    344.562317   \n",
      "2                   1.000000         0.000000    309.085291   \n",
      "3                   0.000000         0.641711    281.789023   \n",
      "4                   0.007648         0.000000    273.924583   \n",
      "\n",
      "   Groups on Final Points  KmeansClusterPredicted  DBSCANClusterPredicted  \n",
      "0                       1                       3                       0  \n",
      "1                       1                       3                       0  \n",
      "2                       1                       0                      -1  \n",
      "3                       1                       3                       0  \n",
      "4                       1                       1                      -1  \n"
     ]
    }
   ],
   "source": [
    "from sklearn.cluster import DBSCAN\n",
    "import numpy as np\n",
    "points_data = np.array(list(zip(CountRequests, PageCount,CountSearch,CountOrders,CountSessionId,TotalOrder,MonetizeAmount)))\n",
    "clustering = DBSCAN(eps=0.5, min_samples=5, metric='euclidean', metric_params=None, algorithm='auto', leaf_size=30, p=None, n_jobs=None).fit(points_data)\n",
    "DBSCANClusterPredicted = clustering.fit_predict(points_data)\n",
    "\n",
    "\n",
    "df = pd.DataFrame(data=DBSCANClusterPredicted,columns=[\"Column1\"])\n",
    "data = data.assign(DBSCANClusterPredicted=DBSCANClusterPredicted)\n",
    "data.to_csv('ClusteredTestIteration.csv')\n",
    "print(data.head())\n",
    "\n"
   ]
  },
  {
   "cell_type": "code",
   "execution_count": 54,
   "id": "b369b1d0",
   "metadata": {},
   "outputs": [],
   "source": [
    "points_data = np.array(list(zip(CountRequests, PageCount,CountSearch,CountOrders,CountSessionId,TotalOrder,MonetizeAmount)))\n"
   ]
  },
  {
   "cell_type": "code",
   "execution_count": 56,
   "id": "b1f4428e",
   "metadata": {},
   "outputs": [
    {
     "name": "stdout",
     "output_type": "stream",
     "text": [
      "                             Company Name  Company id  Count Page View  \\\n",
      "0  Hüttenes-Albertus Chemische Werke GmbH         326         0.107686   \n",
      "1                                Impag AG       23107         0.000558   \n",
      "2         STOCKMEIER Chemie GmbH & Co. KG       10176         0.004743   \n",
      "3                 Rascor International AG        3406         0.053703   \n",
      "4            JARBUR EUROCHEM Spółka Jawna       19068         1.000000   \n",
      "\n",
      "   Count Search  Count Requests  Count Orders  Count Session Id  \\\n",
      "0      0.333011        0.085443      0.065574          0.228916   \n",
      "1      0.000000        0.041139      0.000000          0.003442   \n",
      "2      0.000968        0.037975      1.000000          0.024096   \n",
      "3      0.075508        0.031646      0.016393          0.180723   \n",
      "4      0.913843        0.661392      0.016393          0.838210   \n",
      "\n",
      "   Total Order Value In Euro  Monetize Amount  Final Points  \\\n",
      "0                   0.020527         1.000000    465.736647   \n",
      "1                   0.000000         0.840336    344.562317   \n",
      "2                   1.000000         0.000000    309.085291   \n",
      "3                   0.000000         0.641711    281.789023   \n",
      "4                   0.007648         0.000000    273.924583   \n",
      "\n",
      "   Groups on Final Points  KmeansClusterPredicted  DBSCANClusterPredicted  \\\n",
      "0                       1                       3                       0   \n",
      "1                       1                       3                       0   \n",
      "2                       1                       0                      -1   \n",
      "3                       1                       3                       0   \n",
      "4                       1                       1                      -1   \n",
      "\n",
      "   AgloClusterPredicted  \n",
      "0                     0  \n",
      "1                     0  \n",
      "2                     1  \n",
      "3                     0  \n",
      "4                     4  \n"
     ]
    }
   ],
   "source": [
    "import pandas as pd\n",
    "from sklearn.datasets.samples_generator import make_blobs\n",
    "from sklearn.cluster import AgglomerativeClustering\n",
    "\n",
    "AC = AgglomerativeClustering(n_clusters=5, affinity='euclidean', memory=None, connectivity=None, compute_full_tree='auto', linkage='ward', distance_threshold=None)\n",
    "AgloClusterPredicted = AC.fit_predict(points_data)\n",
    "\n",
    "\n",
    "df = pd.DataFrame(data=AgloClusterPredicted,columns=[\"Column1\"])\n",
    "data = data.assign(AgloClusterPredicted=AgloClusterPredicted)\n",
    "#print(data)\n",
    "data.to_csv('ClusteredTestIteration.csv')\n",
    "print(data.head())\n"
   ]
  },
  {
   "cell_type": "code",
   "execution_count": 59,
   "id": "84b591dd",
   "metadata": {},
   "outputs": [
    {
     "name": "stdout",
     "output_type": "stream",
     "text": [
      "                             Company Name  Company id  Count Page View  \\\n",
      "0  Hüttenes-Albertus Chemische Werke GmbH         326         0.107686   \n",
      "1                                Impag AG       23107         0.000558   \n",
      "2         STOCKMEIER Chemie GmbH & Co. KG       10176         0.004743   \n",
      "3                 Rascor International AG        3406         0.053703   \n",
      "4            JARBUR EUROCHEM Spółka Jawna       19068         1.000000   \n",
      "\n",
      "   Count Search  Count Requests  Count Orders  Count Session Id  \\\n",
      "0      0.333011        0.085443      0.065574          0.228916   \n",
      "1      0.000000        0.041139      0.000000          0.003442   \n",
      "2      0.000968        0.037975      1.000000          0.024096   \n",
      "3      0.075508        0.031646      0.016393          0.180723   \n",
      "4      0.913843        0.661392      0.016393          0.838210   \n",
      "\n",
      "   Total Order Value In Euro  Monetize Amount  Final Points  \\\n",
      "0                   0.020527         1.000000    465.736647   \n",
      "1                   0.000000         0.840336    344.562317   \n",
      "2                   1.000000         0.000000    309.085291   \n",
      "3                   0.000000         0.641711    281.789023   \n",
      "4                   0.007648         0.000000    273.924583   \n",
      "\n",
      "   Groups on Final Points  KmeansClusterPredicted  DBSCANClusterPredicted  \\\n",
      "0                       1                       3                       0   \n",
      "1                       1                       3                       0   \n",
      "2                       1                       0                      -1   \n",
      "3                       1                       3                       0   \n",
      "4                       1                       1                      -1   \n",
      "\n",
      "   AgloClusterPredicted  SpectralClusterPredicted  \n",
      "0                     0                         4  \n",
      "1                     0                         0  \n",
      "2                     1                         3  \n",
      "3                     0                         4  \n",
      "4                     4                         1  \n"
     ]
    }
   ],
   "source": [
    "import pandas as pd\n",
    "from sklearn.datasets.samples_generator import make_blobs\n",
    "from sklearn.cluster import SpectralClustering\n",
    "\n",
    "SC = SpectralClustering(n_clusters=5, eigen_solver=None, n_components=None, random_state=None, \n",
    "                        n_init=10, gamma=1.0, affinity='rbf', n_neighbors=10, eigen_tol=0.0, \n",
    "                        assign_labels='kmeans', degree=3, coef0=1, kernel_params=None, n_jobs=None)\n",
    "SpectralClusterPredicted = SC.fit_predict(points_data)\n",
    "\n",
    "\n",
    "df = pd.DataFrame(data=SpectralClusterPredicted,columns=[\"Column1\"])\n",
    "data = data.assign(SpectralClusterPredicted=SpectralClusterPredicted)\n",
    "#print(data)\n",
    "data.to_csv('ClusteredTestIteration.csv')\n",
    "print(data.head())"
   ]
  },
  {
   "cell_type": "code",
   "execution_count": null,
   "id": "8b47322d",
   "metadata": {},
   "outputs": [],
   "source": []
  }
 ],
 "metadata": {
  "kernelspec": {
   "display_name": "Python 3 (ipykernel)",
   "language": "python",
   "name": "python3"
  },
  "language_info": {
   "codemirror_mode": {
    "name": "ipython",
    "version": 3
   },
   "file_extension": ".py",
   "mimetype": "text/x-python",
   "name": "python",
   "nbconvert_exporter": "python",
   "pygments_lexer": "ipython3",
   "version": "3.7.11"
  },
  "toc": {
   "base_numbering": 1,
   "nav_menu": {},
   "number_sections": false,
   "sideBar": true,
   "skip_h1_title": false,
   "title_cell": "Table of Contents",
   "title_sidebar": "Contents",
   "toc_cell": false,
   "toc_position": {},
   "toc_section_display": true,
   "toc_window_display": true
  }
 },
 "nbformat": 4,
 "nbformat_minor": 5
}
